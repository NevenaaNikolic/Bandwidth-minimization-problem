{
 "cells": [
  {
   "cell_type": "markdown",
   "metadata": {},
   "source": [
    "Koristimo biblioteku **networkx** za rad sa grafovima. Neke funkcije ćemo testirati za graf koji je dat kao primer u radu (https://hal.archives-ouvertes.fr/hal-01166658/document)."
   ]
  },
  {
   "cell_type": "code",
   "execution_count": 284,
   "metadata": {},
   "outputs": [
    {
     "data": {
      "image/png": "[encoded data removed]",
      "text/plain": [
       "<Figure size 432x288 with 1 Axes>"
      ]
     },
     "metadata": {},
     "output_type": "display_data"
    }
   ],
   "source": [
    "import networkx as nx\n",
    "import matplotlib.pyplot as plt\n",
    "import warnings; warnings.simplefilter('ignore')\n",
    "import random\n",
    "%matplotlib inline\n",
    "\n",
    "G = nx.Graph()\n",
    "G.add_edge('v4', 'v5')\n",
    "G.add_edge('v1', 'v2')\n",
    "G.add_edge('v2', 'v3')\n",
    "G.add_edge('v2', 'v4')\n",
    "\n",
    "pos = nx.spring_layout(G)\n",
    "nx.draw_networkx_nodes(G,pos,node_color='pink')\n",
    "nx.draw_networkx_labels(G,pos,font_color='magenta')\n",
    "nx.draw_networkx_edges(G,pos,edgelist=G.edges,color='purple')\n",
    "plt.axis('off')\n",
    "plt.show()"
   ]
  },
  {
   "cell_type": "markdown",
   "metadata": {},
   "source": [
    "Funkcija označavanja $f:\\{v_1,v_2,...,v_n\\} \\rightarrow \\{1,2,...,n\\}$."
   ]
  },
  {
   "cell_type": "markdown",
   "metadata": {},
   "source": [
    "Definišemo dve pomoćne funkcije. $labeling\\_from\\_nodes$ je pomoćna funkcija koja nam od liste čvorova $v_j$ daje listu indeksa $j$ (tj. označavanje tih čvorova).\n",
    "$nodes\\_from\\_labeling$ je pomoćna funkcija koja nam od liste indeksa $j$ daje listu čvorova $v_j$ (tj. čvorove na osnovu tog labeliranja)."
   ]
  },
  {
   "cell_type": "code",
   "execution_count": 2,
   "metadata": {},
   "outputs": [],
   "source": [
    "def labeling_from_nodes(nodes):\n",
    "    n = len(nodes)\n",
    "    return [int(nodes[i].strip('v')) for i in range(n)]\n",
    "\n",
    "def nodes_from_labeling(labeling):\n",
    "    n = len(labeling)\n",
    "    return ['v'+str(labeling[i]) for i in range(n)]"
   ]
  },
  {
   "cell_type": "markdown",
   "metadata": {},
   "source": [
    "Neka je $f(v_1) = 3, f(v_2) = 1, f(v_3) = 2, f(v_4) = 5, f(v_5) = 4 $ (u skladu sa primerom iz rada)."
   ]
  },
  {
   "cell_type": "code",
   "execution_count": 3,
   "metadata": {},
   "outputs": [
    {
     "name": "stdout",
     "output_type": "stream",
     "text": [
      "Given labeling:  [3, 1, 2, 5, 4]\n",
      "Nodes:  ['v1', 'v2', 'v3', 'v4', 'v5']\n",
      "Neighbors of a node v2:  ['v1', 'v3', 'v4']\n"
     ]
    }
   ],
   "source": [
    "f = [3,1,2,5,4] # v1 -> 3, v2 -> 1, ...\n",
    "print('Given labeling: ',f)\n",
    "print('Nodes: ', nodes_from_labeling(sorted(labeling_from_nodes(list(G.nodes)))))\n",
    "print('Neighbors of a node v2: ',[u for u in G.neighbors('v2')])"
   ]
  },
  {
   "cell_type": "markdown",
   "metadata": {},
   "source": [
    "Definišemo funkciju $label$ koja za dati graf $G$, čvor $node$ i funkciju označavanja $f$ vraća oznaku (labelu) koju tom čvoru dodeljuje funkcija $f$"
   ]
  },
  {
   "cell_type": "code",
   "execution_count": 4,
   "metadata": {},
   "outputs": [],
   "source": [
    "def label(G, node, f):\n",
    "    \n",
    "    index_of_node = int(node.strip('v'))-1\n",
    "    return f[index_of_node]\n"
   ]
  },
  {
   "cell_type": "code",
   "execution_count": 5,
   "metadata": {
    "scrolled": true
   },
   "outputs": [
    {
     "name": "stdout",
     "output_type": "stream",
     "text": [
      "Label of a node v2 according to f:  1\n"
     ]
    }
   ],
   "source": [
    "print('Label of a node v2 according to f: ', label(G,'v2',f))"
   ]
  },
  {
   "cell_type": "markdown",
   "metadata": {},
   "source": [
    "Definišemo funkciju $bandwidth\\_of\\_a\\_node$ koja za dati graf $G$, čvor $node$ i funkciju označavanja $f$ izračunava $bandwidth$ tog čvora "
   ]
  },
  {
   "cell_type": "code",
   "execution_count": 6,
   "metadata": {},
   "outputs": [],
   "source": [
    "def bandwidth_of_a_node(G, node, f):\n",
    "    neighbors = [u for u in G.neighbors(node)]\n",
    "    label_node = label(G,node,f)\n",
    "    maximum = float('-inf')\n",
    "    for u in neighbors:\n",
    "        label_u = label(G,u,f)\n",
    "        diff = abs(label_u - label_node)\n",
    "        if diff > maximum:\n",
    "            maximum = diff\n",
    "    return maximum"
   ]
  },
  {
   "cell_type": "code",
   "execution_count": 7,
   "metadata": {},
   "outputs": [
    {
     "name": "stdout",
     "output_type": "stream",
     "text": [
      "Bandwidth of node v2 under labeling f is 4\n",
      "Bandwidth of node v3 under labeling f is 1\n"
     ]
    }
   ],
   "source": [
    "print('Bandwidth of node v2 under labeling f is',bandwidth_of_a_node(G,'v2',f))\n",
    "print('Bandwidth of node v3 under labeling f is',bandwidth_of_a_node(G,'v3',f))"
   ]
  },
  {
   "cell_type": "markdown",
   "metadata": {},
   "source": [
    "Definišemo funkciju $bandwidth$ koja za dati graf $G$ i funkciju označavanja $f$ izračunava $bandwidth$ grafa "
   ]
  },
  {
   "cell_type": "code",
   "execution_count": 8,
   "metadata": {},
   "outputs": [],
   "source": [
    "def bandwidth(G, f):\n",
    "    nodes = [v for v in G.nodes]\n",
    "    bandwidths = [bandwidth_of_a_node(G,node,f) for node in nodes]\n",
    "    return max(bandwidths)"
   ]
  },
  {
   "cell_type": "code",
   "execution_count": 9,
   "metadata": {},
   "outputs": [
    {
     "name": "stdout",
     "output_type": "stream",
     "text": [
      "Bandwidth of the graph G under labeling f is 4\n",
      "Bandwidth of the graph G under identic labeling is 2\n"
     ]
    }
   ],
   "source": [
    "print('Bandwidth of the graph G under labeling f is',bandwidth(G,f))\n",
    "print('Bandwidth of the graph G under identic labeling is',bandwidth(G,[1,2,3,4,5]))"
   ]
  },
  {
   "cell_type": "markdown",
   "metadata": {},
   "source": [
    "Definišemo funkciju $initial\\_solution$ koja za dati graf $G$ generiše početno rešenje - početno označavanje $f$ čvorova grafa $G$, koristeći BFS sa nasumičnim izborom čvora od kojeg se započinje pretraga."
   ]
  },
  {
   "cell_type": "code",
   "execution_count": 10,
   "metadata": {},
   "outputs": [],
   "source": [
    "def initial_solution(G):\n",
    "    \n",
    "    solution = []\n",
    "    \n",
    "    for C in nx.connected_components(G):\n",
    "        source = random.choice(list(C))\n",
    "        edges_iterator = nx.bfs_edges(G, source)\n",
    "        edges = [edge for edge in edges_iterator]\n",
    "        solution = solution + [source] + [edge[1] for edge in edges]\n",
    "    \n",
    "    \n",
    "    return labeling_from_nodes(solution)"
   ]
  },
  {
   "cell_type": "code",
   "execution_count": 11,
   "metadata": {},
   "outputs": [
    {
     "name": "stdout",
     "output_type": "stream",
     "text": [
      "Is our initial solution better than previous labeling f?\n",
      "YES!\n"
     ]
    }
   ],
   "source": [
    "initSol = initial_solution(G)\n",
    "print('Is our initial solution better than previous labeling f?')\n",
    "if bandwidth(G,initSol) < bandwidth(G,f):\n",
    "    print('YES!')\n",
    "else:\n",
    "    print('NO!')"
   ]
  },
  {
   "cell_type": "markdown",
   "metadata": {},
   "source": [
    "Definišemo funkciju $distance(f,f_p)$ koja računa rastojanje između rešenja $f$ i $f_p$ na osnovu formule (4) iz rada."
   ]
  },
  {
   "cell_type": "code",
   "execution_count": 12,
   "metadata": {},
   "outputs": [],
   "source": [
    "def distance(f,f_p):\n",
    "    n = len(f)\n",
    "    dist = 0\n",
    "    for i in range(n):\n",
    "        if f[i] != f_p[i]:\n",
    "            dist += 1\n",
    "    dist -= 1\n",
    "    return dist"
   ]
  },
  {
   "cell_type": "code",
   "execution_count": 13,
   "metadata": {},
   "outputs": [
    {
     "name": "stdout",
     "output_type": "stream",
     "text": [
      "Distance between given solutions is 4\n"
     ]
    }
   ],
   "source": [
    "f_p = [3,2,1,5,4]\n",
    "f = [4,1,3,2,5]\n",
    "print('Distance between given solutions is',distance(f,f_p))"
   ]
  },
  {
   "cell_type": "markdown",
   "metadata": {},
   "source": [
    "Definišemo funkcije $max\\_labeled\\_neighbor$ i $min\\_labeled\\_neighbor$ koje za dati graf $G$, čvor $node$ i označavanje $f$ računaju, redom, najveću i najmanju oznaku među čvorovima susednim čvoru $node$"
   ]
  },
  {
   "cell_type": "code",
   "execution_count": 14,
   "metadata": {},
   "outputs": [],
   "source": [
    "def max_labeled_neighbor(G, node, f):\n",
    "    neighbors = [u for u in G.neighbors(node)]\n",
    "    max_label = float('-inf')\n",
    "    for u in neighbors:\n",
    "        label_u = label(G,u,f)\n",
    "        if label_u > max_label:\n",
    "            max_label = label_u\n",
    "    return max_label"
   ]
  },
  {
   "cell_type": "code",
   "execution_count": 15,
   "metadata": {},
   "outputs": [],
   "source": [
    "def min_labeled_neighbor(G, node, f):\n",
    "    neighbors = [u for u in G.neighbors(node)]\n",
    "    min_label = float('inf')\n",
    "    for u in neighbors:\n",
    "        label_u = label(G,u,f)\n",
    "        if label_u < min_label:\n",
    "            min_label = label_u\n",
    "    return min_label"
   ]
  },
  {
   "cell_type": "code",
   "execution_count": 16,
   "metadata": {},
   "outputs": [
    {
     "name": "stdout",
     "output_type": "stream",
     "text": [
      "5\n",
      "2\n"
     ]
    }
   ],
   "source": [
    "f = [3,1,2,5,4]\n",
    "print(max_labeled_neighbor(G,'v2',f))\n",
    "print(min_labeled_neighbor(G,'v2',f))"
   ]
  },
  {
   "cell_type": "markdown",
   "metadata": {},
   "source": [
    "Definišemo funkciju $set\\_K$ koja bira podskup čvorova $K$ na osnovu $Initialization$ koraka u $Algorithm 1$ iz rada. "
   ]
  },
  {
   "cell_type": "code",
   "execution_count": 17,
   "metadata": {},
   "outputs": [],
   "source": [
    "def set_K(G, f, k):\n",
    "    nodes = [u for u in G.nodes]\n",
    "    B = bandwidth(G,f)\n",
    "    B_p = random.randint(1,B)\n",
    "    \n",
    "    K = []\n",
    "    while True:\n",
    "        for node in nodes:\n",
    "            bandwidth_node = bandwidth_of_a_node(G, node, f)\n",
    "            if bandwidth_node >= B_p:\n",
    "                K.append(node)\n",
    "                \n",
    "        if len(K) >= k:\n",
    "            break\n",
    "        else:\n",
    "            K = []\n",
    "            B_p = random.randint(1,B)\n",
    "                \n",
    "    return K"
   ]
  },
  {
   "cell_type": "code",
   "execution_count": 18,
   "metadata": {},
   "outputs": [
    {
     "data": {
      "text/plain": [
       "['v4', 'v1', 'v2']"
      ]
     },
     "execution_count": 18,
     "metadata": {},
     "output_type": "execute_result"
    }
   ],
   "source": [
    "set_K(G, f, 3)"
   ]
  },
  {
   "cell_type": "markdown",
   "metadata": {},
   "source": [
    " Definišemo funkciju $critical\\_node$ koja za dati graf $G$, čvor $node$ i označavanje $f$ nalazi čvor $v$ takav da je $ |f(node)-f(v)| = bandwidth\\_of\\_a\\_node(G, node, f) $"
   ]
  },
  {
   "cell_type": "code",
   "execution_count": 19,
   "metadata": {},
   "outputs": [],
   "source": [
    "def critical_node(G, node, f):\n",
    "\n",
    "    nodes = [u for u in G.nodes]\n",
    "    for v in nodes:\n",
    "        if abs(label(G, node, f) - label(G, v, f)) == bandwidth_of_a_node(G, node, f):\n",
    "            return v"
   ]
  },
  {
   "cell_type": "code",
   "execution_count": 20,
   "metadata": {},
   "outputs": [
    {
     "data": {
      "text/plain": [
       "'v2'"
      ]
     },
     "execution_count": 20,
     "metadata": {},
     "output_type": "execute_result"
    }
   ],
   "source": [
    "critical_node(G, 'v4', f)"
   ]
  },
  {
   "cell_type": "markdown",
   "metadata": {},
   "source": [
    "Definišemo pomoćnu funkciju $swap\\_labels$ koja menja označavanje $f$ tako što datim čvorovima $u$ i $v$ zameni prethodne oznake."
   ]
  },
  {
   "cell_type": "code",
   "execution_count": 21,
   "metadata": {},
   "outputs": [],
   "source": [
    "def swap_labels(G, u, v, f):\n",
    "    \n",
    "    label_u = label(G, u, f)\n",
    "    label_v = label(G, v, f)\n",
    "    \n",
    "    index_u = f.index(label_u)\n",
    "    index_v = f.index(label_v)\n",
    "    \n",
    "    f[index_u] = label_v\n",
    "    f[index_v] = label_u\n",
    "    \n",
    "    return f"
   ]
  },
  {
   "cell_type": "code",
   "execution_count": 22,
   "metadata": {},
   "outputs": [
    {
     "data": {
      "text/plain": [
       "[4, 1, 2, 5, 3]"
      ]
     },
     "execution_count": 22,
     "metadata": {},
     "output_type": "execute_result"
    }
   ],
   "source": [
    "f = [3,1,2,5,4]\n",
    "swap_labels(G,'v1','v5',f)"
   ]
  },
  {
   "cell_type": "markdown",
   "metadata": {},
   "source": [
    "Definišemo funkciju $shaking$ kojom se realizuje faza razmrdavanja (prema $Algorithm 1$ iz rada)"
   ]
  },
  {
   "cell_type": "code",
   "execution_count": 23,
   "metadata": {},
   "outputs": [],
   "source": [
    "def shaking(G, f, k):\n",
    "    \n",
    "    K = set_K(G, f, k)\n",
    "    \n",
    "    edges = [edge for edge in G.edges]\n",
    "    nodes = [node for node in G.nodes]\n",
    "    \n",
    "    for i in range(k):\n",
    "        u = random.choice(K)\n",
    "        v = critical_node(G, u, f) \n",
    "        \n",
    "        if (u,v) in edges:\n",
    "            f_min_u = min_labeled_neighbor(G, u, f)\n",
    "            f_max_u = max_labeled_neighbor(G, u, f)\n",
    "\n",
    "            label_v = label(G, v, f)\n",
    "            \n",
    "            min_value = float('inf')\n",
    "            min_w = None\n",
    "            \n",
    "            for w in nodes:\n",
    "                label_w = label(G, w, f)\n",
    "                if label_w <= f_max_u and label_w >= f_min_u:\n",
    "                    current_value = max(max_labeled_neighbor(G, w, f) - label_v,label_v - min_labeled_neighbor(G, w, f))\n",
    "                    \n",
    "                    if current_value < min_value:\n",
    "                        min_value = current_value\n",
    "                        min_w = w\n",
    "                        \n",
    "            f = swap_labels(G,v,min_w,f)\n",
    "            \n",
    "    return f"
   ]
  },
  {
   "cell_type": "code",
   "execution_count": 24,
   "metadata": {},
   "outputs": [
    {
     "name": "stdout",
     "output_type": "stream",
     "text": [
      "[1, 3, 2, 5, 4]\n"
     ]
    }
   ],
   "source": [
    "f = [3,1,2,5,4]\n",
    "print(shaking(G,f,3))"
   ]
  },
  {
   "cell_type": "markdown",
   "metadata": {},
   "source": [
    "Definišemo funkciju $best\\_labeling$ koja za dati čvor $v$ pronalazi najbolju oznaku."
   ]
  },
  {
   "cell_type": "code",
   "execution_count": 25,
   "metadata": {},
   "outputs": [],
   "source": [
    "def best_labeling(G, v, f):\n",
    "    max_v = max_labeled_neighbor(G, v, f)\n",
    "    min_v = min_labeled_neighbor(G, v, f)\n",
    "    \n",
    "    mid_v = (max_v + min_v) // 2\n",
    "    \n",
    "    return mid_v"
   ]
  },
  {
   "cell_type": "markdown",
   "metadata": {},
   "source": [
    "Definišemo funkciju $suitable\\_swapping\\_nodes$ koja za dati čvor $v$ pronalazi skup čvorova pogodnih za razmenu oznake."
   ]
  },
  {
   "cell_type": "code",
   "execution_count": 26,
   "metadata": {},
   "outputs": [],
   "source": [
    "def suitable_swapping_nodes(G, v, f):\n",
    "    nodes = [u for u in G.nodes]\n",
    "    mid_v = best_labeling(G, v, f)\n",
    "    label_v = label(G, v, f)\n",
    "    N_p = []\n",
    "    \n",
    "    for u in nodes:\n",
    "        label_u = label(G, u, f)\n",
    "        if abs(mid_v-label_u) < abs(mid_v-label_v):\n",
    "            N_p.append(u)\n",
    "            \n",
    "    return N_p"
   ]
  },
  {
   "cell_type": "code",
   "execution_count": 27,
   "metadata": {},
   "outputs": [
    {
     "data": {
      "text/plain": [
       "['v5', 'v2', 'v3']"
      ]
     },
     "execution_count": 27,
     "metadata": {},
     "output_type": "execute_result"
    }
   ],
   "source": [
    "suitable_swapping_nodes(G,'v1',f)"
   ]
  },
  {
   "cell_type": "markdown",
   "metadata": {},
   "source": [
    "Definišemo funkciju $number\\_of\\_critical\\_edges$ koja za dati graf $G$ i označavanje $f$ izračunava broj kritičnih grana. Kritična grana je ona grana $(u,v)$ takva da je $bandwidth\\_of\\_a\\_node(G, u, f) = bandwidth(G, f)$ i $bandwidth\\_of\\_a\\_node(G, v, f) = bandwidth(G, f)$"
   ]
  },
  {
   "cell_type": "code",
   "execution_count": 28,
   "metadata": {},
   "outputs": [],
   "source": [
    "def number_of_critical_edges(G, f):\n",
    "    \n",
    "    number = 0\n",
    "    B = bandwidth(G, f)\n",
    "    edges = [edge for edge in G.edges]\n",
    "    \n",
    "    for edge in edges:\n",
    "        v_from = edge[0]\n",
    "        v_to = edge[1]\n",
    "        \n",
    "        if bandwidth_of_a_node(G, v_from, f) == B and bandwidth_of_a_node(G, v_to, f) == B:\n",
    "            number += 1\n",
    "            \n",
    "    return number"
   ]
  },
  {
   "cell_type": "markdown",
   "metadata": {},
   "source": [
    "Definišemo funkciju $local\\_search$ kojom se realizuje faza lokalne pretrage (prema $Algorithm 2$ iz rada)"
   ]
  },
  {
   "cell_type": "code",
   "execution_count": 29,
   "metadata": {},
   "outputs": [],
   "source": [
    "def local_search(G, f):\n",
    "    \n",
    "    canImprove = True\n",
    "    nodes = [u for u in G.nodes]\n",
    "    \n",
    "    while canImprove:\n",
    "        canImprove = False\n",
    "        \n",
    "        for v in nodes:\n",
    "            \n",
    "            number_of_critical = number_of_critical_edges(G, f)\n",
    "\n",
    "            if bandwidth_of_a_node(G, v, f) == bandwidth(G, f):\n",
    "                \n",
    "                N_p = suitable_swapping_nodes(G,v,f)\n",
    "                \n",
    "                for u in N_p:\n",
    "                    f = swap_labels(G,v,u,f)\n",
    "                    \n",
    "                    if number_of_critical_edges(G, f) < number_of_critical:\n",
    "                        canImprove = True\n",
    "                        break\n",
    "                        \n",
    "                    f = swap_labels(G,v,u,f)\n",
    "                    \n",
    "    return f"
   ]
  },
  {
   "cell_type": "markdown",
   "metadata": {},
   "source": [
    "Definišemo funkciju $number\\_of\\_critical\\_nodes$ koja za dati graf $G$ i označavanje $f$ izračunava broj kritičnih čvorova. Kritični čvor je čvor čiji je $bandwidth$ jednak $bandwidt$h-u grafa, odnosno ima maksimalan $bandwidth$ za dato labeliranje."
   ]
  },
  {
   "cell_type": "code",
   "execution_count": 30,
   "metadata": {},
   "outputs": [],
   "source": [
    "def number_of_critical_nodes(G, f):\n",
    "    \n",
    "    Vc = set([])\n",
    "    B = bandwidth(G, f)\n",
    "    nodes = [u for u in G.nodes]\n",
    "    \n",
    "    for u in nodes:\n",
    "        if bandwidth_of_a_node(G, u, f) == B:\n",
    "            Vc.add(u)\n",
    "            \n",
    "    return len(Vc)"
   ]
  },
  {
   "cell_type": "markdown",
   "metadata": {},
   "source": [
    "Definišemo funkciju $move$ kojom se realizuje mehanizam 'move or not' (prema $Algorithm 3$ iz rada)"
   ]
  },
  {
   "cell_type": "code",
   "execution_count": 31,
   "metadata": {},
   "outputs": [],
   "source": [
    "def move(G, f, f_p, alpha):\n",
    "    \n",
    "    Move = False\n",
    "    B_f = bandwidth(G, f)\n",
    "    B_f_p = bandwidth(G, f_p)\n",
    "    \n",
    "    if B_f_p < B_f:\n",
    "        Move = True\n",
    "        \n",
    "    else:\n",
    "        if B_f == B_f_p:\n",
    "            if number_of_critical_nodes(G,f_p) < number_of_critical_nodes(G,f) or distance(f, f_p) > alpha:\n",
    "                Move = True\n",
    "                \n",
    "    return Move"
   ]
  },
  {
   "cell_type": "markdown",
   "metadata": {},
   "source": [
    "Definišemo funkciju $VNS$ kojom se realizuje metod promenljivih okolina (prema $Algorithm 4$ iz rada)"
   ]
  },
  {
   "cell_type": "code",
   "execution_count": 32,
   "metadata": {},
   "outputs": [],
   "source": [
    "def VNS(G, k_min, k_max, k_step, alpha):\n",
    "\n",
    "    t = 0\n",
    "    \n",
    "    i_max = int((k_max - k_min)/k_step)\n",
    "    \n",
    "    f = initial_solution(G)\n",
    "    f = local_search(G, f)\n",
    "    i = 0\n",
    "    k = k_min\n",
    "    \n",
    "    while i <= i_max:\n",
    "        f_p = shaking(G, f, k)\n",
    "        f_p = local_search(G, f)\n",
    "        if move(G, f, f_p, alpha):\n",
    "            f = f_p\n",
    "            k = k_min\n",
    "            i = 0\n",
    "        else:\n",
    "            k = k + k_step\n",
    "            i = i + 1\n",
    "    \n",
    "    return f"
   ]
  },
  {
   "cell_type": "markdown",
   "metadata": {},
   "source": [
    "Pomoćna funkcija $generate\\_graph$ koja na osnovu broja čvorova $n$ i broja grana $e$ vraća nasumično konstruisan graf."
   ]
  },
  {
   "cell_type": "code",
   "execution_count": 33,
   "metadata": {},
   "outputs": [],
   "source": [
    "def generate_graph(n, e):\n",
    "    \n",
    "    l = [i for i in range(1,n+1)]\n",
    "    V = nodes_from_labeling(l)\n",
    "    G = nx.Graph()\n",
    "    G.add_nodes_from(V)\n",
    "\n",
    "    for i in range(e):\n",
    "        u = random.choice(V)\n",
    "        v = random.choice(V)\n",
    "    \n",
    "        while u == v:\n",
    "            v = random.choice(V)\n",
    "        \n",
    "        G.add_edge(u,v)\n",
    "        \n",
    "    return G"
   ]
  },
  {
   "cell_type": "markdown",
   "metadata": {},
   "source": [
    "Pomoćna funkcija $visualize\\_graph$ koja vizualizuje prosleđeni graf."
   ]
  },
  {
   "cell_type": "code",
   "execution_count": 34,
   "metadata": {},
   "outputs": [],
   "source": [
    "def visualize_graph(G):\n",
    "    \n",
    "    pos = nx.spring_layout(G)\n",
    "    plt.figure(figsize=(10,10))\n",
    "    nx.draw_networkx_nodes(G,pos,node_color='pink')\n",
    "    nx.draw_networkx_labels(G,pos,font_color='magenta')\n",
    "    nx.draw_networkx_edges(G,pos,edgelist=list(G.edges),color='purple')\n",
    "    plt.axis('off')\n",
    "    plt.show()\n"
   ]
  },
  {
   "cell_type": "markdown",
   "metadata": {},
   "source": [
    "## Testiranje"
   ]
  },
  {
   "cell_type": "markdown",
   "metadata": {},
   "source": [
    "### Test 1"
   ]
  },
  {
   "cell_type": "code",
   "execution_count": 234,
   "metadata": {},
   "outputs": [],
   "source": [
    "n = 30 # broj cvorova, podesavati po zelji\n",
    "e = 60 # broj grana, podesavati po zelji\n",
    "\n",
    "# naredni parametri su postavljeni u skladu sa radom\n",
    "alpha = 10\n",
    "k_min = 2\n",
    "k_step = 3\n",
    "k_max = n//2 "
   ]
  },
  {
   "cell_type": "code",
   "execution_count": 235,
   "metadata": {},
   "outputs": [
    {
     "data": {
      "image/png": "[encoded data removed]",
      "text/plain": [
       "<Figure size 720x720 with 1 Axes>"
      ]
     },
     "metadata": {},
     "output_type": "display_data"
    }
   ],
   "source": [
    "# generisemo i vizualizujemo graf\n",
    "G = generate_graph(n, e)\n",
    "visualize_graph(G)"
   ]
  },
  {
   "cell_type": "code",
   "execution_count": 236,
   "metadata": {},
   "outputs": [
    {
     "name": "stdout",
     "output_type": "stream",
     "text": [
      "Initial solution bandwidth:  28\n",
      "Bandwidth of the graph G under such labeling f is  20\n"
     ]
    }
   ],
   "source": [
    "initSol = initial_solution(G)\n",
    "print('Initial solution bandwidth: ',bandwidth(G, initSol))\n",
    "f = VNS(G,k_min,k_max,k_step,alpha)\n",
    "print('Bandwidth of the graph G under such labeling f is ', bandwidth(G, f))"
   ]
  },
  {
   "cell_type": "markdown",
   "metadata": {},
   "source": [
    "### Test 2"
   ]
  },
  {
   "cell_type": "code",
   "execution_count": 237,
   "metadata": {},
   "outputs": [],
   "source": [
    "n = 50 # broj cvorova, podesavati po zelji\n",
    "e = 100 # broj grana, podesavati po zelji\n",
    "\n",
    "# naredni parametri su postavljeni u skladu sa radom\n",
    "alpha = 10\n",
    "k_min = 2\n",
    "k_step = 3\n",
    "k_max = n//2 "
   ]
  },
  {
   "cell_type": "code",
   "execution_count": 238,
   "metadata": {},
   "outputs": [
    {
     "data": {
      "image/png": "[encoded data removed]",
      "text/plain": [
       "<Figure size 720x720 with 1 Axes>"
      ]
     },
     "metadata": {},
     "output_type": "display_data"
    }
   ],
   "source": [
    "# generisemo i vizualizujemo graf\n",
    "G = generate_graph(n, e)\n",
    "visualize_graph(G)"
   ]
  },
  {
   "cell_type": "code",
   "execution_count": 239,
   "metadata": {},
   "outputs": [
    {
     "name": "stdout",
     "output_type": "stream",
     "text": [
      "Initial solution bandwidth:  47\n",
      "Bandwidth of the graph G under such labeling f is  39\n"
     ]
    }
   ],
   "source": [
    "initSol = initial_solution(G)\n",
    "print('Initial solution bandwidth: ',bandwidth(G, initSol))\n",
    "f = VNS(G,k_min,k_max,k_step,alpha)\n",
    "print('Bandwidth of the graph G under such labeling f is ', bandwidth(G, f))"
   ]
  },
  {
   "cell_type": "markdown",
   "metadata": {},
   "source": [
    "### Test 3"
   ]
  },
  {
   "cell_type": "code",
   "execution_count": 240,
   "metadata": {},
   "outputs": [],
   "source": [
    "n = 100 # broj cvorova, podesavati po zelji\n",
    "e = 250 # broj grana, podesavati po zelji\n",
    "\n",
    "# naredni parametri su postavljeni u skladu sa radom\n",
    "alpha = 10\n",
    "k_min = 2\n",
    "k_step = 3\n",
    "k_max = n//2 "
   ]
  },
  {
   "cell_type": "code",
   "execution_count": 241,
   "metadata": {},
   "outputs": [],
   "source": [
    "# generisemo i vizualizujemo graf\n",
    "G = generate_graph(n, e)\n",
    "#visualize_graph(G)"
   ]
  },
  {
   "cell_type": "code",
   "execution_count": 242,
   "metadata": {},
   "outputs": [
    {
     "name": "stdout",
     "output_type": "stream",
     "text": [
      "Initial solution bandwidth:  98\n",
      "Bandwidth of the graph G under such labeling f is  78\n"
     ]
    }
   ],
   "source": [
    "initSol = initial_solution(G)\n",
    "print('Initial solution bandwidth: ',bandwidth(G, initSol))\n",
    "f = VNS(G,k_min,k_max,k_step,alpha)\n",
    "print('Bandwidth of the graph G under such labeling f is ', bandwidth(G, f))"
   ]
  },
  {
   "cell_type": "markdown",
   "metadata": {},
   "source": [
    "### Test 4\n"
   ]
  },
  {
   "cell_type": "code",
   "execution_count": 243,
   "metadata": {},
   "outputs": [],
   "source": [
    "n = 150 # broj cvorova, podesavati po zelji\n",
    "e = 350 # broj grana, podesavati po zelji\n",
    "\n",
    "# naredni parametri su postavljeni u skladu sa radom\n",
    "alpha = 10\n",
    "k_min = 2\n",
    "k_step = 3\n",
    "k_max = n//2 "
   ]
  },
  {
   "cell_type": "code",
   "execution_count": 244,
   "metadata": {},
   "outputs": [],
   "source": [
    "# generisemo i vizualizujemo graf\n",
    "G = generate_graph(n, e)\n",
    "#visualize_graph(G)"
   ]
  },
  {
   "cell_type": "code",
   "execution_count": 245,
   "metadata": {},
   "outputs": [
    {
     "name": "stdout",
     "output_type": "stream",
     "text": [
      "Initial solution bandwidth:  145\n",
      "Bandwidth of the graph G under such labeling f is  113\n"
     ]
    }
   ],
   "source": [
    "initSol = initial_solution(G)\n",
    "print('Initial solution bandwidth: ',bandwidth(G, initSol))\n",
    "f = VNS(G,k_min,k_max,k_step,alpha)\n",
    "print('Bandwidth of the graph G under such labeling f is ', bandwidth(G, f))"
   ]
  },
  {
   "cell_type": "markdown",
   "metadata": {},
   "source": [
    "### Test 5"
   ]
  },
  {
   "cell_type": "code",
   "execution_count": 246,
   "metadata": {},
   "outputs": [],
   "source": [
    "n = 200 # broj cvorova, podesavati po zelji\n",
    "e = 500 # broj grana, podesavati po zelji\n",
    "\n",
    "# naredni parametri su postavljeni u skladu sa radom\n",
    "alpha = 10\n",
    "k_min = 2\n",
    "k_step = 3\n",
    "k_max = n//2 "
   ]
  },
  {
   "cell_type": "code",
   "execution_count": 247,
   "metadata": {},
   "outputs": [],
   "source": [
    "# generisemo i vizualizujemo graf\n",
    "G = generate_graph(n, e)\n",
    "#visualize_graph(G)"
   ]
  },
  {
   "cell_type": "code",
   "execution_count": 248,
   "metadata": {},
   "outputs": [
    {
     "name": "stdout",
     "output_type": "stream",
     "text": [
      "Initial solution bandwidth:  194\n",
      "Bandwidth of the graph G under such labeling f is  172\n"
     ]
    }
   ],
   "source": [
    "initSol = initial_solution(G)\n",
    "print('Initial solution bandwidth: ',bandwidth(G, initSol))\n",
    "f = VNS(G,k_min,k_max,k_step,alpha)\n",
    "print('Bandwidth of the graph G under such labeling f is ', bandwidth(G, f))"
   ]
  },
  {
   "cell_type": "markdown",
   "metadata": {},
   "source": [
    "## DODATAK - poređenje sa optimalnim rešenjem"
   ]
  },
  {
   "cell_type": "code",
   "execution_count": 320,
   "metadata": {},
   "outputs": [],
   "source": [
    "import numpy as np\n",
    "from scipy import sparse as sps\n",
    "import pandas as pd"
   ]
  },
  {
   "cell_type": "code",
   "execution_count": 119,
   "metadata": {},
   "outputs": [],
   "source": [
    "def matrix_bandwidth(A):\n",
    "    n = A.shape[0]\n",
    "    diffs = []\n",
    "    \n",
    "    for i in range(n):\n",
    "        for j in range(n):\n",
    "            if A[i][j] != 0:\n",
    "                diffs.append(np.abs(i-j))\n",
    "    return max(diffs)       "
   ]
  },
  {
   "cell_type": "code",
   "execution_count": 225,
   "metadata": {},
   "outputs": [],
   "source": [
    "def graph_from_matrix(A):\n",
    "    n = A.shape[0]\n",
    "    nodes = ['v' + str(i+1) for i in range(n)]\n",
    "    g = nx.Graph()\n",
    "    g.add_nodes_from(nodes)\n",
    "    \n",
    "    for i in range(n):\n",
    "        for j in range(n):\n",
    "            if A[i][j] != 0:\n",
    "                node_i = 'v' + str(i+1)\n",
    "                node_j = 'v' + str(j+1)\n",
    "                g.add_edge(node_i, node_j)\n",
    "            \n",
    "    #visualize_graph(g)\n",
    "    return g"
   ]
  },
  {
   "cell_type": "markdown",
   "metadata": {},
   "source": [
    "## README\n",
    "\n",
    "**Naš projekat se oslanja na rad koji je naveden na početku sveske. Autori rada su naglasili da algoritam koji su oni (i mi) prezentovali i implementirali ne daje optimalna rešenja, ali je brži od ostalih pristupa koji daju optimalnija rešenja. Stoga, ne očekujemo savršene rezultate, ali je vreme izvršavanja algoritma i za matrice velikih dimenzija razumno, a *bandwidth* u odnosu na dimenziju matrice (grafa) značajno redukovan. **\n",
    "\n",
    "Kako radimo sa neusmerenim grafovima, matrica povezanosti treba da bude simetrična. Najpre generišemo retku simetričnu matricu sa minimalnim *bandwidth*-om (trakastu matricu). Od nje zatim konstruišemo graf. Očigledno, optimalni *bandwidth* takvog grafa je jednak *bandwidth*-u matrice i dobija se za identičko označavanje čvorova (*v1 -> 1, v2 -> 2*...). Testirajmo koliko dobro označavanje će dati naš algoritam VNS.\n",
    "\n",
    "*Bandwidth*: \n",
    "* tridijagonalne matrice (ne-nula dijagonale: glavna i po jedna ispod i iznad) je 1\n",
    "* pentadijagonalne matrice (ne-nula dijagonale: glavna i po dve ispod i iznad) je 2\n",
    "* ...\n",
    "* n-dijagonalne matrice (ne-nula dijagonale: glavna i po $\\frac{n-1}{2}$ ispod i iznad) je $\\frac{n-1}{2}$ \n",
    "\n",
    "*NAPOMENA 1: Na ovaj način takođe ispitujemo kvalitet dobijenog rešenja jer znamo koje rešenje je optimalno, a izbegavamo permutovanje same matrice i komplikacije koje bi tako nešto povuklo za sobom (zbog izbora koje smo napravili ranije u radu u vezi sa predstavljanjem grafa i funkcije označavanja).*\n",
    "\n",
    "*NAPOMENA 2: Testiramo za 6 matrica dimenzije do 200 zbog ograničenih računarskih resursa. Za svaku matricu algoritam pokrećemo 5 puta i u tabelu upisujemo najbolji rezultat (po uzoru na testiranje koje su vršili autori rada).*"
   ]
  },
  {
   "cell_type": "code",
   "execution_count": 238,
   "metadata": {},
   "outputs": [],
   "source": [
    "def generate_band_matrix(size, num_diag):\n",
    "    \n",
    "    A = np.diag([1 for i in range(size)])\n",
    "    K = (num_diag - 1) // 2\n",
    "    \n",
    "    for k in range(1,K+1):\n",
    "            ones = [1 for i in range(size-k)]\n",
    "            A = A + np.diag(ones, k = k)\n",
    "            A = A + np.diag(ones, k = -k)\n",
    "    \n",
    "    B = matrix_bandwidth(A)\n",
    "    return A, B"
   ]
  },
  {
   "cell_type": "code",
   "execution_count": 286,
   "metadata": {},
   "outputs": [],
   "source": [
    "alpha = 10\n",
    "k_min = 2\n",
    "k_step = 3"
   ]
  },
  {
   "cell_type": "code",
   "execution_count": 334,
   "metadata": {},
   "outputs": [],
   "source": [
    "table = dict([])\n",
    "table['size'] = [48, 57, 100, 147, 161, 200]\n",
    "table['num_diags'] = [15, 13, 21, 47, 37, 29]\n",
    "table['best bandwidth'] = []\n",
    "table['our bandwidth'] = []"
   ]
  },
  {
   "cell_type": "code",
   "execution_count": 335,
   "metadata": {},
   "outputs": [],
   "source": [
    "for i in range(len(table['size'])):\n",
    "    \n",
    "    A, B = generate_band_matrix(table['size'][i],table['num_diags'][i])\n",
    "    table['best bandwidth'].append(B)\n",
    "    \n",
    "    g = graph_from_matrix(A)\n",
    "    results = []\n",
    "    k_max = table['size'][i] // 2\n",
    "    \n",
    "    for i in range(5):\n",
    "        vns_sol = VNS(g, k_min, k_max, k_step, alpha)\n",
    "        results.append(bandwidth(g, vns_sol))\n",
    "\n",
    "    table['our bandwidth'].append(min(results))    "
   ]
  },
  {
   "cell_type": "code",
   "execution_count": 345,
   "metadata": {},
   "outputs": [
    {
     "data": {
      "text/plain": [
       "{'best bandwidth': [7, 6, 10, 23, 18, 14],\n",
       " 'num_diags': [15, 13, 21, 47, 37, 29],\n",
       " 'our bandwidth': [9, 8, 12, 25, 25, 27],\n",
       " 'size': [48, 57, 100, 147, 161, 200]}"
      ]
     },
     "execution_count": 345,
     "metadata": {},
     "output_type": "execute_result"
    }
   ],
   "source": [
    "table"
   ]
  },
  {
   "cell_type": "code",
   "execution_count": 343,
   "metadata": {},
   "outputs": [],
   "source": [
    "res = pd.DataFrame(table)\n",
    "res = res.drop(columns = 'num_diags')"
   ]
  },
  {
   "cell_type": "code",
   "execution_count": 344,
   "metadata": {},
   "outputs": [
    {
     "data": {
      "text/html": [
       "<div>\n",
       "<style scoped>\n",
       "    .dataframe tbody tr th:only-of-type {\n",
       "        vertical-align: middle;\n",
       "    }\n",
       "\n",
       "    .dataframe tbody tr th {\n",
       "        vertical-align: top;\n",
       "    }\n",
       "\n",
       "    .dataframe thead th {\n",
       "        text-align: right;\n",
       "    }\n",
       "</style>\n",
       "<table border=\"1\" class=\"dataframe\">\n",
       "  <thead>\n",
       "    <tr style=\"text-align: right;\">\n",
       "      <th></th>\n",
       "      <th>size</th>\n",
       "      <th>best bandwidth</th>\n",
       "      <th>our bandwidth</th>\n",
       "    </tr>\n",
       "  </thead>\n",
       "  <tbody>\n",
       "    <tr>\n",
       "      <th>0</th>\n",
       "      <td>48</td>\n",
       "      <td>7</td>\n",
       "      <td>9</td>\n",
       "    </tr>\n",
       "    <tr>\n",
       "      <th>1</th>\n",
       "      <td>57</td>\n",
       "      <td>6</td>\n",
       "      <td>8</td>\n",
       "    </tr>\n",
       "    <tr>\n",
       "      <th>2</th>\n",
       "      <td>100</td>\n",
       "      <td>10</td>\n",
       "      <td>12</td>\n",
       "    </tr>\n",
       "    <tr>\n",
       "      <th>3</th>\n",
       "      <td>147</td>\n",
       "      <td>23</td>\n",
       "      <td>25</td>\n",
       "    </tr>\n",
       "    <tr>\n",
       "      <th>4</th>\n",
       "      <td>161</td>\n",
       "      <td>18</td>\n",
       "      <td>25</td>\n",
       "    </tr>\n",
       "    <tr>\n",
       "      <th>5</th>\n",
       "      <td>200</td>\n",
       "      <td>14</td>\n",
       "      <td>27</td>\n",
       "    </tr>\n",
       "  </tbody>\n",
       "</table>\n",
       "</div>"
      ],
      "text/plain": [
       "   size  best bandwidth  our bandwidth\n",
       "0    48               7              9\n",
       "1    57               6              8\n",
       "2   100              10             12\n",
       "3   147              23             25\n",
       "4   161              18             25\n",
       "5   200              14             27"
      ]
     },
     "execution_count": 344,
     "metadata": {},
     "output_type": "execute_result"
    }
   ],
   "source": [
    "res"
   ]
  },
  {
   "cell_type": "code",
   "execution_count": 346,
   "metadata": {},
   "outputs": [
    {
     "data": {
      "text/plain": [
       "13.0"
      ]
     },
     "execution_count": 346,
     "metadata": {},
     "output_type": "execute_result"
    }
   ],
   "source": [
    "res['best bandwidth'].mean()"
   ]
  },
  {
   "cell_type": "code",
   "execution_count": 347,
   "metadata": {},
   "outputs": [
    {
     "data": {
      "text/plain": [
       "17.666666666666668"
      ]
     },
     "execution_count": 347,
     "metadata": {},
     "output_type": "execute_result"
    }
   ],
   "source": [
    "res['our bandwidth'].mean()"
   ]
  }
 ],
 "metadata": {
  "kernelspec": {
   "display_name": "Python 3",
   "language": "python",
   "name": "python3"
  },
  "language_info": {
   "codemirror_mode": {
    "name": "ipython",
    "version": 3
   },
   "file_extension": ".py",
   "mimetype": "text/x-python",
   "name": "python",
   "nbconvert_exporter": "python",
   "pygments_lexer": "ipython3",
   "version": "3.6.8"
  }
 },
 "nbformat": 4,
 "nbformat_minor": 2
}
