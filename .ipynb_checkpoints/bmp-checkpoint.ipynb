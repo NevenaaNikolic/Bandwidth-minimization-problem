{
 "cells": [
  {
   "cell_type": "markdown",
   "metadata": {},
   "source": [
    "Koristimo biblioteku networkx za rad sa grafovima. Radimo za sad za graf koji je dat kao primer u pdf-u. Prilagoditi kasnije za testiranje sa drugačijim grafovima."
   ]
  },
  {
   "cell_type": "code",
   "execution_count": 168,
   "metadata": {},
   "outputs": [
    {
     "name": "stderr",
     "output_type": "stream",
     "text": [
      "/home/nevena/anaconda3/lib/python3.7/site-packages/networkx/drawing/nx_pylab.py:611: MatplotlibDeprecationWarning: isinstance(..., numbers.Number)\n",
      "  if cb.is_numlike(alpha):\n"
     ]
    },
    {
     "data": {
      "image/png": "[encoded data removed]",
      "text/plain": [
       "<Figure size 432x288 with 1 Axes>"
      ]
     },
     "metadata": {
      "needs_background": "light"
     },
     "output_type": "display_data"
    }
   ],
   "source": [
    "import networkx as nx\n",
    "import matplotlib.pyplot as plt\n",
    "G = nx.Graph()\n",
    "G.add_edge('v1', 'v2')\n",
    "G.add_edge('v2', 'v3')\n",
    "G.add_edge('v2', 'v4')\n",
    "G.add_edge('v4', 'v5')\n",
    "\n",
    "pos = nx.spring_layout(G)\n",
    "nx.draw_networkx_nodes(G,pos,node_color='white')\n",
    "nx.draw_networkx_labels(G,pos,font_color='black')\n",
    "nx.draw_networkx_edges(G,pos,edgelist=G.edges,color='red')\n",
    "plt.axis('off')\n",
    "plt.show()"
   ]
  },
  {
   "cell_type": "markdown",
   "metadata": {},
   "source": [
    "Funkcija labeliranja $f:{v_1,v_2,...,v_n} \\rightarrow {1,2,...,n}$\n",
    "Neka je $f(v_1) = 3, f(v_2) = 1, f(v_3) = 2, f(v_4) = 5, f(v_5) = 4 $ "
   ]
  },
  {
   "cell_type": "code",
   "execution_count": 169,
   "metadata": {},
   "outputs": [
    {
     "name": "stdout",
     "output_type": "stream",
     "text": [
      "Given labeling:  [3, 1, 2, 5, 4]\n",
      "Nodes:  ['v1', 'v2', 'v3', 'v4', 'v5']\n",
      "Neighbors of a node v2:  ['v1', 'v3', 'v4']\n"
     ]
    }
   ],
   "source": [
    "f = [3,1,2,5,4] # v1 -> 3, v2 -> 1, ...\n",
    "nodes = [u for u in G.nodes] # v1, v2, v3, v4, v5\n",
    "print('Given labeling: ',f)\n",
    "print('Nodes: ',nodes)\n",
    "print('Neighbors of a node v2: ',[u for u in G.neighbors('v2')])\n"
   ]
  },
  {
   "cell_type": "markdown",
   "metadata": {},
   "source": [
    "Definišemo funkciju $label$ koja za dati graf $G$, čvor $node$ i funkciju labeliranja $f$ vraća oznaku (labelu) koju tom čvoru dodeljuje funkcija $f$"
   ]
  },
  {
   "cell_type": "code",
   "execution_count": 170,
   "metadata": {},
   "outputs": [
    {
     "name": "stdout",
     "output_type": "stream",
     "text": [
      "Label of a node v2 according to f:  1\n"
     ]
    }
   ],
   "source": [
    "def label(G, node, f):\n",
    "    nodes = [v for v in G.nodes]\n",
    "    index_of_node = nodes.index(node)\n",
    "    return f[index_of_node]\n",
    "\n",
    "print('Label of a node v2 according to f: ', label(G,'v2',f))\n"
   ]
  },
  {
   "cell_type": "markdown",
   "metadata": {},
   "source": [
    "Definišemo funkciju $bandwidth\\_of\\_a\\_node$ koja za dati graf $G$, čvor $node$ i funkciju labeliranja $f$ izračunava $bandwidth$ tog čvora "
   ]
  },
  {
   "cell_type": "code",
   "execution_count": 171,
   "metadata": {},
   "outputs": [
    {
     "name": "stdout",
     "output_type": "stream",
     "text": [
      "Bandwidth of node v2 under labeling f is 4\n",
      "Bandwidth of node v3 under labeling f is 1\n"
     ]
    }
   ],
   "source": [
    "def bandwidth_of_a_node(G, node, f):\n",
    "    neighbors = [u for u in G.neighbors(node)]\n",
    "    label_node = label(G,node,f)\n",
    "    maximum = -1\n",
    "    for u in neighbors:\n",
    "        label_u = label(G,u,f)\n",
    "        diff = abs(label_u - label_node)\n",
    "        if diff > maximum:\n",
    "            maximum = diff\n",
    "    return maximum\n",
    "\n",
    "print('Bandwidth of node v2 under labeling f is',bandwidth_of_a_node(G,'v2',f))\n",
    "print('Bandwidth of node v3 under labeling f is',bandwidth_of_a_node(G,'v3',f))"
   ]
  },
  {
   "cell_type": "markdown",
   "metadata": {},
   "source": [
    "Definišemo funkciju $bandwidth$ koja za dati graf $G$ i funkciju labeliranja $f$ izračunava $bandwidth$ grafa "
   ]
  },
  {
   "cell_type": "code",
   "execution_count": 172,
   "metadata": {},
   "outputs": [
    {
     "name": "stdout",
     "output_type": "stream",
     "text": [
      "Bandwidth of the graph G under labeling f is 4\n",
      "Bandwidth of the graph G under identic labeling is 2\n"
     ]
    }
   ],
   "source": [
    "# racunamo bandwidth grafa G za funkciju f\n",
    "def bandwidth(G, f):\n",
    "    nodes = [v for v in G.nodes]\n",
    "    bandwidths = [bandwidth_of_a_node(G,node,f) for node in nodes]\n",
    "    return max(bandwidths)\n",
    "\n",
    "print('Bandwidth of the graph G under labeling f is',bandwidth(G,f))\n",
    "print('Bandwidth of the graph G under identic labeling is',bandwidth(G,[1,2,3,4,5]))"
   ]
  },
  {
   "cell_type": "markdown",
   "metadata": {},
   "source": [
    "Definišemo dve pomoćne funkcije. $labeling\\_from\\_nodes$ je pomoćna funkcija koja nam od liste čvorova $v_j$ daje listu indeksa $j$ (tj. labeliranje tih čvorova).\n",
    "$nodes\\_from\\_labeling$ je pomoćna funkcija koja nam od liste indeksa $j$ daje listu čvorova $v_j$ (tj. čvorove na osnovu tog labeliranja)."
   ]
  },
  {
   "cell_type": "code",
   "execution_count": 173,
   "metadata": {},
   "outputs": [],
   "source": [
    "def labeling_from_nodes(nodes):\n",
    "    n = len(nodes)\n",
    "    return [int(nodes[i].strip('v')) for i in range(n)]\n",
    "\n",
    "def nodes_from_labeling(labeling):\n",
    "    n = len(labeling)\n",
    "    return ['v'+str(labeling[i]) for i in range(n)]"
   ]
  },
  {
   "cell_type": "markdown",
   "metadata": {},
   "source": [
    "Definišemo funkciju initialSolution koja za dati graf $G$ generiše početno rešenje - početno labeliranje $f$ čvorova grafa $G$, koristeći BFS sa nasumičnim izborom čvora od kojeg se započinje pretraga."
   ]
  },
  {
   "cell_type": "code",
   "execution_count": 174,
   "metadata": {},
   "outputs": [
    {
     "name": "stdout",
     "output_type": "stream",
     "text": [
      "Is our initial solution better than previous labeling f?\n",
      "YES!\n"
     ]
    }
   ],
   "source": [
    "import random\n",
    "    \n",
    "def initial_solution(G):\n",
    "    nodes = [u for u in G.nodes]\n",
    "    start = random.choice(nodes)\n",
    "    edges_iterator = nx.bfs_edges(G,start)\n",
    "    edges = [edge for edge in edges_iterator]\n",
    "    solution = [start] + [edge[1] for edge in edges]\n",
    "    return labeling_from_nodes(solution)\n",
    "\n",
    "initSol = initial_solution(G)\n",
    "print('Is our initial solution better than previous labeling f?')\n",
    "if bandwidth(G,initSol) < bandwidth(G,f):\n",
    "    print('YES!')\n",
    "else:\n",
    "    print('NO!')"
   ]
  },
  {
   "cell_type": "markdown",
   "metadata": {},
   "source": [
    "Definišemo funkciju $distance(f,f_p)$ koja računa rastojanje između rešenja $f$ i $f_p$ na osnovu formule (4) iz pdf-a. Potrebna da bi definisali pojam okoline nekog rešenja."
   ]
  },
  {
   "cell_type": "code",
   "execution_count": 175,
   "metadata": {},
   "outputs": [
    {
     "name": "stdout",
     "output_type": "stream",
     "text": [
      "Distance between given solutions is 4\n"
     ]
    }
   ],
   "source": [
    "def distance(f,f_p):\n",
    "    n = len(f)\n",
    "    dist = 0\n",
    "    for i in range(n):\n",
    "        if f[i] != f_p[i]:\n",
    "            dist += 1\n",
    "    dist -= 1\n",
    "    return dist\n",
    "        \n",
    "f = [3,2,1,5,4]\n",
    "f_p = [4,1,3,2,5]\n",
    "print('Distance between given solutions is',distance(f,f_p))"
   ]
  },
  {
   "cell_type": "markdown",
   "metadata": {},
   "source": [
    "Definišemo funkcije $max\\_labeled\\_neighbor$ i $min\\_labeled\\_neighbor$ koje za dati graf $G$, čvor $node$ i labeliranje $f$ računaju, redom, najveću i najmanju labelu među čvorovima susednim čvoru $node$"
   ]
  },
  {
   "cell_type": "code",
   "execution_count": 176,
   "metadata": {},
   "outputs": [],
   "source": [
    "def max_labeled_neighbor(G, node, f):\n",
    "    neighbors = [u for u in G.neighbors(node)]\n",
    "    max_label = float('-inf')\n",
    "    for u in neighbors:\n",
    "        label_u = label(G,u,f)\n",
    "        if label_u > max_label:\n",
    "            max_label = label_u\n",
    "    return max_label\n",
    "\n",
    "def min_labeled_neighbor(G, node, f):\n",
    "    neighbors = [u for u in G.neighbors(node)]\n",
    "    min_label = float('inf')\n",
    "    for u in neighbors:\n",
    "        label_u = label(G,u,f)\n",
    "        if label_u < min_label:\n",
    "            min_label = label_u\n",
    "    return min_label"
   ]
  },
  {
   "cell_type": "code",
   "execution_count": 177,
   "metadata": {},
   "outputs": [
    {
     "name": "stdout",
     "output_type": "stream",
     "text": [
      "5\n",
      "2\n"
     ]
    }
   ],
   "source": [
    "f = [3,1,2,5,4]\n",
    "print(max_labeled_neighbor(G,'v2',f))\n",
    "print(min_labeled_neighbor(G,'v2',f))"
   ]
  },
  {
   "cell_type": "markdown",
   "metadata": {},
   "source": [
    "Definišemo funkciju $set\\_K$ koja bira podskup čvorova $K$ na osnovu $Initialization$ koraka u $Algorithm 1$ pdf-a. \n",
    "### ZA OVO NISAM SIGURNA!!!!"
   ]
  },
  {
   "cell_type": "code",
   "execution_count": 178,
   "metadata": {},
   "outputs": [
    {
     "data": {
      "text/plain": [
       "['v1', 'v2', 'v4']"
      ]
     },
     "execution_count": 178,
     "metadata": {},
     "output_type": "execute_result"
    }
   ],
   "source": [
    "def set_K(G, f, k):\n",
    "    nodes = [u for u in G.nodes]\n",
    "    B = bandwidth(G,f)\n",
    "    B_p = random.randint(1,B)\n",
    "    \n",
    "    K = []\n",
    "    while True:\n",
    "        for node in nodes:\n",
    "            bandwidth_node = bandwidth_of_a_node(G, node, f)\n",
    "            if bandwidth_node >= B_p:\n",
    "                K.append(node)\n",
    "                \n",
    "        if len(K) >= k:\n",
    "            break\n",
    "        else:\n",
    "            K = []\n",
    "            B_p = random.randint(1,B)\n",
    "                \n",
    "    return K\n",
    "                \n",
    "set_K(G, f, 3)"
   ]
  },
  {
   "cell_type": "markdown",
   "metadata": {},
   "source": [
    " Definišemo funkciju $critical\\_node$ koja za dati graf $G$, čvor $node$ i labeliranje $f$ nalazi čvor $v$ takav da je $ |f(node)-f(v)| = bandwidth\\_of\\_a\\_node(G, node, f) $"
   ]
  },
  {
   "cell_type": "code",
   "execution_count": 179,
   "metadata": {},
   "outputs": [
    {
     "data": {
      "text/plain": [
       "'v2'"
      ]
     },
     "execution_count": 179,
     "metadata": {},
     "output_type": "execute_result"
    }
   ],
   "source": [
    "def critical_node(G, node, f):\n",
    "    \n",
    "    nodes = [u for u in G.nodes]\n",
    "    \n",
    "    for v in nodes:\n",
    "        if abs(label(G, node, f) - label(G, v, f)) == bandwidth_of_a_node(G, node, f):\n",
    "            return v\n",
    "        \n",
    "critical_node(G, 'v4', f)"
   ]
  },
  {
   "cell_type": "markdown",
   "metadata": {},
   "source": [
    "Definišemo pomoćnu funkciju $swap\\_labels$ koja ažurira labeliranje $f$ tako što datim čvorovima $u$ i $v$ zameni prethodne oznake."
   ]
  },
  {
   "cell_type": "code",
   "execution_count": 180,
   "metadata": {},
   "outputs": [],
   "source": [
    "def swap_labels(G, u, v, f):\n",
    "    \n",
    "    label_u = label(G, u, f)\n",
    "    label_v = label(G, v, f)\n",
    "    \n",
    "    index_u = f.index(label_u)\n",
    "    index_v = f.index(label_v)\n",
    "    \n",
    "    f[index_u] = label_v\n",
    "    f[index_v] = label_u\n",
    "    \n",
    "    return f\n"
   ]
  },
  {
   "cell_type": "markdown",
   "metadata": {},
   "source": [
    "Definišemo funkciju $shaking$ kojom se realizuje faza razmrdavanja (prema $Algorithm 1$ sa pdf-a)"
   ]
  },
  {
   "cell_type": "code",
   "execution_count": 181,
   "metadata": {},
   "outputs": [
    {
     "name": "stdout",
     "output_type": "stream",
     "text": [
      "[3, 1, 2, 5, 4]\n"
     ]
    }
   ],
   "source": [
    "def shaking(G, f, k):\n",
    "    \n",
    "    K = set_K(G, f, k)\n",
    "    \n",
    "    edges = [edge for edge in G.edges]\n",
    "    nodes = [node for node in G.nodes]\n",
    "    \n",
    "    for i in range(k):\n",
    "        u = random.choice(K)\n",
    "        v = critical_node(G, u, f) \n",
    "        \n",
    "        if (u,v) in edges:\n",
    "            f_min_u = min_labeled_neighbor(G, u, f)\n",
    "            f_max_u = max_labeled_neighbor(G, u, f)\n",
    "\n",
    "            label_v = label(G, v, f)\n",
    "            \n",
    "            min_value = float('inf')\n",
    "            min_w = None\n",
    "            \n",
    "            for w in nodes:\n",
    "                label_w = label(G, w, f)\n",
    "                if label_w <= f_max_u and label_w >= f_min_u:\n",
    "                    current_value = max(max_labeled_neighbor(G, w, f) - label_v,label_v-min_labeled_neighbor(G, w, f))\n",
    "                    \n",
    "                    if current_value < min_value:\n",
    "                        min_value = current_value\n",
    "                        min_w = w\n",
    "                        \n",
    "            f = swap_labels(G,v,min_w,f)\n",
    "    return f\n",
    "\n",
    "f = [3,1,2,5,4]\n",
    "print(shaking(G,f,3))\n"
   ]
  },
  {
   "cell_type": "markdown",
   "metadata": {},
   "source": [
    "Definišemo funkciju $best\\_labeling$ koja za dati čvor $v$ pronalazi najbolju oznaku."
   ]
  },
  {
   "cell_type": "code",
   "execution_count": 182,
   "metadata": {},
   "outputs": [],
   "source": [
    "def best_labeling(G, v, f):\n",
    "    max_v = max_labeled_neighbor(G, v, f)\n",
    "    min_v = min_labeled_neighbor(G, v, f)\n",
    "    \n",
    "    mid_v = (max_v + min_v) // 2\n",
    "    \n",
    "    return mid_v"
   ]
  },
  {
   "cell_type": "markdown",
   "metadata": {},
   "source": [
    "Definišemo funkciju $suitable\\_swapping\\_nodes$ koja za dati čvor $v$ pronalazi skup čvorova pogodnih za razmenu oznake."
   ]
  },
  {
   "cell_type": "code",
   "execution_count": 183,
   "metadata": {},
   "outputs": [
    {
     "data": {
      "text/plain": [
       "['v2', 'v3']"
      ]
     },
     "execution_count": 183,
     "metadata": {},
     "output_type": "execute_result"
    }
   ],
   "source": [
    "def suitable_swapping_nodes(G, v, f):\n",
    "    nodes = [u for u in G.nodes]\n",
    "    mid_v = best_labeling(G, v, f)\n",
    "    label_v = label(G, v, f)\n",
    "    N_p = []\n",
    "    \n",
    "    for u in nodes:\n",
    "        label_u = label(G, u, f)\n",
    "        if abs(mid_v-label_u) < abs(mid_v-label_v):\n",
    "            N_p.append(u)\n",
    "            \n",
    "    return N_p\n",
    "\n",
    "suitable_swapping_nodes(G,'v1',f)"
   ]
  },
  {
   "cell_type": "markdown",
   "metadata": {},
   "source": [
    "Definišemo funkciju $number\\_of\\_critical\\_edges$ koja za dati graf $G$ i labeliranje $f$ izračunava broj kritičnih grana. Kritična grana je ona grana $(u,v)$ takva da je $bandwidth\\_of\\_a\\_node(G, u, f) = bandwidth(G, f)$ i $bandwidth\\_of\\_a\\_node(G, v, f) = bandwidth(G, f)$"
   ]
  },
  {
   "cell_type": "code",
   "execution_count": 184,
   "metadata": {},
   "outputs": [
    {
     "data": {
      "text/plain": [
       "1"
      ]
     },
     "execution_count": 184,
     "metadata": {},
     "output_type": "execute_result"
    }
   ],
   "source": [
    "def number_of_critical_edges(G, f):\n",
    "    \n",
    "    number = 0\n",
    "    B = bandwidth(G, f)\n",
    "    edges = [edge for edge in G.edges]\n",
    "    \n",
    "    for edge in edges:\n",
    "        v_from = edge[0]\n",
    "        v_to = edge[1]\n",
    "        \n",
    "        if bandwidth_of_a_node(G, v_from, f) == B and bandwidth_of_a_node(G, v_to, f) == B:\n",
    "            number += 1\n",
    "            \n",
    "    return number\n",
    "    \n",
    "number_of_critical_edges(G,[3,1,2,5,4])"
   ]
  },
  {
   "cell_type": "markdown",
   "metadata": {},
   "source": [
    "Definišemo funkciju $local\\_search$ kojom se realizuje faza lokalne pretrage (prema $Algorithm 2$ sa pdf-a)"
   ]
  },
  {
   "cell_type": "code",
   "execution_count": 185,
   "metadata": {},
   "outputs": [],
   "source": [
    "def local_search(G, f):\n",
    "    \n",
    "    canImprove = True\n",
    "    nodes = [u for u in G.nodes]\n",
    "    \n",
    "    while canImprove:\n",
    "        canImprove = False\n",
    "        \n",
    "        for v in nodes:\n",
    "            \n",
    "            number_of_critical = number_of_critical_edges(G, f)\n",
    "\n",
    "            if bandwidth_of_a_node(G, v, f) == bandwidth(G, f):\n",
    "                \n",
    "                N_p = suitable_swapping_nodes(G,v,f)\n",
    "                \n",
    "                for u in N_p:\n",
    "                    f = swap_labels(G,v,u,f)\n",
    "                    \n",
    "                    if number_of_critical_edges(G, f) < number_of_critical:\n",
    "                        canImprove = True\n",
    "                        break\n",
    "                        \n",
    "                    f = swap_labels(G,v,u,f)\n",
    "                    \n",
    "    return f"
   ]
  },
  {
   "cell_type": "markdown",
   "metadata": {},
   "source": [
    "Definišemo funkciju $number\\_of\\_critical\\_nodes$ koja za dati graf $G$ i labeliranje $f$ izračunava broj kritičnih čvorova. Kritični čvor je čvor čiji je $bandwidth$ jednak $bandwidt$h-u grafa, odnosno ima maksimalan $bandwidth$ za dato labeliranje."
   ]
  },
  {
   "cell_type": "code",
   "execution_count": 187,
   "metadata": {},
   "outputs": [
    {
     "data": {
      "text/plain": [
       "2"
      ]
     },
     "execution_count": 187,
     "metadata": {},
     "output_type": "execute_result"
    }
   ],
   "source": [
    "def number_of_critical_nodes(G, f):\n",
    "    \n",
    "    Vc = set([])\n",
    "    B = bandwidth(G, f)\n",
    "    edges = [edge for edge in G.edges]\n",
    "    \n",
    "    for edge in edges:\n",
    "        v_from = edge[0]\n",
    "        v_to = edge[1]\n",
    "        \n",
    "        if bandwidth_of_a_node(G, v_from, f) == B and bandwidth_of_a_node(G, v_to, f) == B:\n",
    "            Vc.add(v_from)\n",
    "            Vc.add(v_to)\n",
    "            \n",
    "            \n",
    "            \n",
    "    return len(Vc)\n",
    "    \n",
    "number_of_critical_nodes(G,[3,1,2,5,4])"
   ]
  },
  {
   "cell_type": "code",
   "execution_count": 195,
   "metadata": {},
   "outputs": [],
   "source": [
    "# Druga ideja #\n",
    "def number_of_critical_nodes2(G, f):\n",
    "    \n",
    "    Vc = set([])\n",
    "    B = bandwidth(G, f)\n",
    "    nodes = [u for u in G.nodes]\n",
    "    \n",
    "    for u in nodes:\n",
    "        if bandwidth_of_a_node(G, u, f) == B:\n",
    "            Vc.add(u)\n",
    "            \n",
    "    return len(Vc)\n",
    "  "
   ]
  },
  {
   "cell_type": "markdown",
   "metadata": {},
   "source": [
    "Definišemo funkciju $move$ kojom se realizuje mehanizam 'move or not' (prema $Algorithm 3$ sa pdf-a)"
   ]
  },
  {
   "cell_type": "code",
   "execution_count": 223,
   "metadata": {},
   "outputs": [],
   "source": [
    "def move(G, f, f_p, alpha):\n",
    "    \n",
    "    Move = False\n",
    "    B_f = bandwidth(G, f)\n",
    "    B_f_p = bandwidth(G, f_p)\n",
    "    \n",
    "    if B_f_p < B_f:\n",
    "        Move = True\n",
    "        \n",
    "    else:\n",
    "        if B_f == B_f_p:\n",
    "            if number_of_critical_nodes(G,f_p) < number_of_critical_nodes(G,f) or distance(f, f_p) > alpha:\n",
    "                Move = True\n",
    "                \n",
    "    return Move"
   ]
  },
  {
   "cell_type": "markdown",
   "metadata": {},
   "source": [
    "Definišemo funkciju $VNS$ kojom se realizuje metod promenljivih okolina (prema $Algorithm 4$ sa pdf-a)"
   ]
  },
  {
   "cell_type": "code",
   "execution_count": 219,
   "metadata": {},
   "outputs": [],
   "source": [
    "def VNS(G, k_min, k_max, k_step, alpha):\n",
    "    B_star = float('inf')\n",
    "    t = 0\n",
    "    \n",
    "    i_max = int((k_max - k_min)/k_step)\n",
    "    \n",
    "    f = initial_solution(G)\n",
    "    f = local_search(G, f)\n",
    "    i = 0\n",
    "    k = k_min\n",
    "    \n",
    "    while i <= i_max:\n",
    "        f_p = shaking(G, f, k)\n",
    "        f_p = local_search(G, f)\n",
    "        if move(G, f, f_p, alpha):\n",
    "            f = f_p\n",
    "            k = k_min\n",
    "            i = 0\n",
    "        else:\n",
    "            k = k + k_step\n",
    "            i = i + 1\n",
    "    \n",
    "    return f"
   ]
  },
  {
   "cell_type": "markdown",
   "metadata": {},
   "source": [
    "Pomoćna funkcija $generate\\_graph$ koja na osnovu broja čvorova $n$ i broja grana $e$ formira random graf."
   ]
  },
  {
   "cell_type": "code",
   "execution_count": 220,
   "metadata": {},
   "outputs": [],
   "source": [
    "def generate_graph(n, e):\n",
    "    \n",
    "    l = [i for i in range(1,n+1)]\n",
    "    V = nodes_from_labeling(l)\n",
    "    G = nx.Graph()\n",
    "\n",
    "    for i in range(e):\n",
    "        u = random.choice(V)\n",
    "        v = random.choice(V)\n",
    "    \n",
    "        while u == v:\n",
    "            v = random.choice(V)\n",
    "        \n",
    "        G.add_edge(u,v)\n",
    "    \n",
    "    return G"
   ]
  },
  {
   "cell_type": "markdown",
   "metadata": {},
   "source": [
    "Pomoćna funkcija $visualize\\_graph$ koja vizualizuje prosleđeni graf."
   ]
  },
  {
   "cell_type": "code",
   "execution_count": 221,
   "metadata": {},
   "outputs": [],
   "source": [
    "def visualize_graph(G):\n",
    "    \n",
    "    pos = nx.spring_layout(G)\n",
    "    plt.figure(figsize=(8,8))\n",
    "    nx.draw_networkx_nodes(G,pos,node_color='pink')\n",
    "    nx.draw_networkx_labels(G,pos,font_color='magenta')\n",
    "    nx.draw_networkx_edges(G,pos,edgelist=list(G.edges),color='purple')\n",
    "    plt.axis('off')\n",
    "    plt.title('I am a pretty little pink graph :)', color = 'purple', size = 20)\n",
    "    plt.show()\n"
   ]
  },
  {
   "cell_type": "markdown",
   "metadata": {},
   "source": [
    "## Testiranje"
   ]
  },
  {
   "cell_type": "code",
   "execution_count": 222,
   "metadata": {},
   "outputs": [
    {
     "data": {
      "image/png": "[encoded data removed]",
      "text/plain": [
       "<Figure size 576x576 with 1 Axes>"
      ]
     },
     "metadata": {
      "needs_background": "light"
     },
     "output_type": "display_data"
    },
    {
     "name": "stdout",
     "output_type": "stream",
     "text": [
      "Initial solution bandwidth:  53\n",
      "VNS has given us the following labeling:  [7, 6, 11, 10, 19, 4, 3, 8, 35, 44, 50, 54, 45, 36, 1, 14, 9, 51, 20, 17, 22, 28, 46, 29, 59, 25, 49, 15, 32, 38, 33, 12, 55, 13, 53, 30, 58, 21, 26, 40, 34, 24, 56, 18, 2, 60, 37, 42, 41, 16, 52, 47, 23, 39, 43, 57, 27, 5, 48]\n",
      "Bandwidth of the graph G under such labeling f is  37\n"
     ]
    }
   ],
   "source": [
    "n = 60 # broj cvorova, podesavati po zelji\n",
    "e = 120 # broj grana, podesavati po zelji\n",
    "\n",
    "# generisemo i vizualizujemo graf\n",
    "G = generate_graph(n, e)\n",
    "visualize_graph(G)\n",
    "\n",
    "# naredni parametri su postavljeni u skladu sa pdf-om\n",
    "alpha = 10\n",
    "k_min = 2\n",
    "k_step = 3\n",
    "k_max = n//2 \n",
    "\n",
    "print('Initial solution bandwidth: ',bandwidth(G,initial_solution(G)))\n",
    "\n",
    "### REZULTATI KORISCENJEM number_of_critical_nodes2 FUNKCIJE ###\n",
    "f = VNS(G,k_min,k_max,k_step,alpha)\n",
    "print('VNS has given us the following labeling: ',f)\n",
    "print('Bandwidth of the graph G under such labeling f is ', bandwidth(G, f))"
   ]
  },
  {
   "cell_type": "code",
   "execution_count": 226,
   "metadata": {},
   "outputs": [
    {
     "name": "stdout",
     "output_type": "stream",
     "text": [
      "VNS has given us the following labeling:  [39, 38, 24, 43, 32, 49, 5, 12, 29, 6, 3, 26, 34, 41, 4, 17, 45, 9, 33, 44, 35, 19, 46, 7, 52, 36, 56, 59, 53, 54, 14, 42, 60, 11, 8, 40, 15, 30, 55, 47, 27, 2, 1, 21, 22, 20, 28, 10, 16, 23, 58, 50, 13, 25, 57, 48, 18, 37, 51]\n",
      "Bandwidth of the graph G under such labeling f is  42\n"
     ]
    }
   ],
   "source": [
    "### REZULTATI KORISCENJEM number_of_critical_nodes FUNKCIJE ###\n",
    "f = VNS(G,k_min,k_max,k_step,alpha)\n",
    "print('VNS has given us the following labeling: ',f)\n",
    "print('Bandwidth of the graph G under such labeling f is ', bandwidth(G, f))"
   ]
  },
  {
   "cell_type": "code",
   "execution_count": null,
   "metadata": {},
   "outputs": [],
   "source": []
  }
 ],
 "metadata": {
  "kernelspec": {
   "display_name": "Python 3",
   "language": "python",
   "name": "python3"
  },
  "language_info": {
   "codemirror_mode": {
    "name": "ipython",
    "version": 3
   },
   "file_extension": ".py",
   "mimetype": "text/x-python",
   "name": "python",
   "nbconvert_exporter": "python",
   "pygments_lexer": "ipython3",
   "version": "3.7.3"
  }
 },
 "nbformat": 4,
 "nbformat_minor": 2
}
