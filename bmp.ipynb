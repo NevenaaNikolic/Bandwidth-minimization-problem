{
 "cells": [
  {
   "cell_type": "markdown",
   "metadata": {},
   "source": [
    "Koristimo biblioteku networkx za rad sa grafovima. Radimo za sad za graf koji je dat kao primer u pdf-u. Prilagoditi kasnije za testiranje sa drugačijim grafovima."
   ]
  },
  {
   "cell_type": "code",
   "execution_count": 1,
   "metadata": {},
   "outputs": [
    {
     "name": "stderr",
     "output_type": "stream",
     "text": [
      "/home/nevena/anaconda3/lib/python3.7/site-packages/networkx/drawing/nx_pylab.py:611: MatplotlibDeprecationWarning: isinstance(..., numbers.Number)\n",
      "  if cb.is_numlike(alpha):\n"
     ]
    },
    {
     "data": {
      "text/plain": [
       "<Figure size 640x480 with 1 Axes>"
      ]
     },
     "metadata": {},
     "output_type": "display_data"
    }
   ],
   "source": [
    "import networkx as nx\n",
    "import matplotlib.pyplot as plt\n",
    "G = nx.Graph()\n",
    "G.add_edge('v1', 'v2')\n",
    "G.add_edge('v2', 'v3')\n",
    "G.add_edge('v2', 'v4')\n",
    "G.add_edge('v4', 'v5')\n",
    "\n",
    "pos = nx.spring_layout(G)\n",
    "nx.draw_networkx_nodes(G,pos,node_color='white')\n",
    "nx.draw_networkx_labels(G,pos,font_color='black')\n",
    "nx.draw_networkx_edges(G,pos,edgelist=G.edges,color='red')\n",
    "plt.axis('off')\n",
    "plt.show()"
   ]
  },
  {
   "cell_type": "markdown",
   "metadata": {},
   "source": [
    "Funkcija labeliranja $f:{v_1,v_2,...,v_n} \\rightarrow {1,2,...,n}$\n",
    "Neka je $f(v_1) = 3, f(v_2) = 1, f(v_3) = 2, f(v_4) = 5, f(v_5) = 4 $ "
   ]
  },
  {
   "cell_type": "code",
   "execution_count": 5,
   "metadata": {},
   "outputs": [
    {
     "name": "stdout",
     "output_type": "stream",
     "text": [
      "Given labeling:  [3, 1, 2, 5, 4]\n",
      "Nodes:  ['v1', 'v2', 'v3', 'v4', 'v5']\n",
      "Neighbors of a node v2:  ['v1', 'v3', 'v4']\n"
     ]
    }
   ],
   "source": [
    "f = [3,1,2,5,4] # v1 -> 3, v2 -> 1, ...\n",
    "nodes = [u for u in G.nodes] # v1, v2, v3, v4, v5\n",
    "print('Given labeling: ',f)\n",
    "print('Nodes: ',nodes)\n",
    "print('Neighbors of a node v2: ',[u for u in G.neighbors('v2')])\n"
   ]
  },
  {
   "cell_type": "markdown",
   "metadata": {},
   "source": [
    "Definišemo funkciju $label$ koja za dati graf $G$, čvor $node$ i funkciju labeliranja $f$ vraća oznaku (labelu) koju tom čvoru dodeljuje funkcija $f$"
   ]
  },
  {
   "cell_type": "code",
   "execution_count": 6,
   "metadata": {},
   "outputs": [
    {
     "name": "stdout",
     "output_type": "stream",
     "text": [
      "Label of a node v2 according to f:  1\n"
     ]
    }
   ],
   "source": [
    "def label(G, node, f):\n",
    "    nodes = [v for v in G.nodes]\n",
    "    index_of_node = nodes.index(node)\n",
    "    return f[index_of_node]\n",
    "\n",
    "print('Label of a node v2 according to f: ', label(G,'v2',f))\n"
   ]
  },
  {
   "cell_type": "markdown",
   "metadata": {},
   "source": [
    "Definišemo funkciju $bandwidth\\_of\\_a\\_node$ koja za dati graf $G$, čvor $node$ i funkciju labeliranja $f$ izračunava $bandwidth$ tog čvora "
   ]
  },
  {
   "cell_type": "code",
   "execution_count": 7,
   "metadata": {},
   "outputs": [
    {
     "name": "stdout",
     "output_type": "stream",
     "text": [
      "Bandwidth of node v2 under labeling f is 4\n",
      "Bandwidth of node v3 under labeling f is 1\n"
     ]
    }
   ],
   "source": [
    "def bandwidth_of_a_node(G, node, f):\n",
    "    neighbors = [u for u in G.neighbors(node)]\n",
    "    label_node = label(G,node,f)\n",
    "    maximum = -1\n",
    "    for u in neighbors:\n",
    "        label_u = label(G,u,f)\n",
    "        diff = abs(label_u - label_node)\n",
    "        if diff > maximum:\n",
    "            maximum = diff\n",
    "    return maximum\n",
    "\n",
    "print('Bandwidth of node v2 under labeling f is',bandwidth_of_a_node(G,'v2',f))\n",
    "print('Bandwidth of node v3 under labeling f is',bandwidth_of_a_node(G,'v3',f))"
   ]
  },
  {
   "cell_type": "markdown",
   "metadata": {},
   "source": [
    "Definišemo funkciju $bandwidth$ koja za dati graf $G$ i funkciju labeliranja $f$ izračunava $bandwidth$ grafa "
   ]
  },
  {
   "cell_type": "code",
   "execution_count": 8,
   "metadata": {},
   "outputs": [
    {
     "name": "stdout",
     "output_type": "stream",
     "text": [
      "Bandwidth of the graph G under labeling f is 4\n",
      "Bandwidth of the graph G under identic labeling is 2\n"
     ]
    }
   ],
   "source": [
    "# racunamo bandwidth grafa G za funkciju f\n",
    "def bandwidth(G, f):\n",
    "    nodes = [v for v in G.nodes]\n",
    "    bandwidths = [bandwidth_of_a_node(G,node,f) for node in nodes]\n",
    "    return max(bandwidths)\n",
    "\n",
    "print('Bandwidth of the graph G under labeling f is',bandwidth(G,f))\n",
    "print('Bandwidth of the graph G under identic labeling is',bandwidth(G,[1,2,3,4,5]))"
   ]
  },
  {
   "cell_type": "markdown",
   "metadata": {},
   "source": [
    "Definišemo dve pomoćne funkcije. $labeling\\_from\\_nodes$ je pomoćna funkcija koja nam od liste čvorova $v_j$ daje listu indeksa $j$ (tj. labeliranje tih čvorova).\n",
    "$nodes\\_from\\_labeling$ je pomoćna funkcija koja nam od liste indeksa $j$ daje listu čvorova $v_j$ (tj. čvorove na osnovu tog labeliranja)."
   ]
  },
  {
   "cell_type": "code",
   "execution_count": 9,
   "metadata": {},
   "outputs": [],
   "source": [
    "def labeling_from_nodes(nodes):\n",
    "    n = len(nodes)\n",
    "    return [int(nodes[i].strip('v')) for i in range(n)]\n",
    "\n",
    "def nodes_from_labeling(labeling):\n",
    "    n = len(labeling)\n",
    "    return ['v'+str(labeling[i]) for i in range(n)]"
   ]
  },
  {
   "cell_type": "markdown",
   "metadata": {},
   "source": [
    "Definišemo funkciju initialSolution koja za dati graf $G$ generiše početno rešenje - početno labeliranje $f$ čvorova grafa $G$, koristeći BFS sa nasumičnim izborom čvora od kojeg se započinje pretraga."
   ]
  },
  {
   "cell_type": "code",
   "execution_count": 10,
   "metadata": {},
   "outputs": [
    {
     "name": "stdout",
     "output_type": "stream",
     "text": [
      "Is our initial solution better than previous labeling f?\n",
      "YES!\n"
     ]
    }
   ],
   "source": [
    "import random\n",
    "    \n",
    "def initialSolution(G):\n",
    "    nodes = [u for u in G.nodes]\n",
    "    start = random.choice(nodes)\n",
    "    edges_iterator = nx.bfs_edges(G,start)\n",
    "    edges = [edge for edge in edges_iterator]\n",
    "    solution = [start] + [edge[1] for edge in edges]\n",
    "    return labeling_from_nodes(solution)\n",
    "\n",
    "initSol = initialSolution(G)\n",
    "print('Is our initial solution better than previous labeling f?')\n",
    "if bandwidth(G,initSol) < bandwidth(G,f):\n",
    "    print('YES!')\n",
    "else:\n",
    "    print('NO!')"
   ]
  },
  {
   "cell_type": "markdown",
   "metadata": {},
   "source": [
    "Definišemo funkciju $distance(f,f_p)$ koja računa rastojanje između rešenja $f$ i $f_p$ na osnovu formule (4) iz pdf-a. Potrebna da bi definisali pojam okoline nekog rešenja."
   ]
  },
  {
   "cell_type": "code",
   "execution_count": 11,
   "metadata": {},
   "outputs": [
    {
     "name": "stdout",
     "output_type": "stream",
     "text": [
      "Distance between given solutions is 4\n"
     ]
    }
   ],
   "source": [
    "def distance(f,f_p):\n",
    "    n = len(f)\n",
    "    dist = 0\n",
    "    for i in range(n):\n",
    "        if f[i] != f_p[i]:\n",
    "            dist += 1\n",
    "    dist -= 1\n",
    "    return dist\n",
    "        \n",
    "f = [3,2,1,5,4]\n",
    "f_p = [4,1,3,2,5]\n",
    "print('Distance between given solutions is',distance(f,f_p))"
   ]
  },
  {
   "cell_type": "markdown",
   "metadata": {},
   "source": [
    "Definišemo funkcije $max\\_labeled\\_neighbor$ i $min\\_labeled\\_neighbor$ koje za dati graf $G$, čvor $node$ i labeliranje $f$ računaju, redom, najveću i najmanju labelu među čvorovima susednim čvoru $node$"
   ]
  },
  {
   "cell_type": "code",
   "execution_count": 12,
   "metadata": {},
   "outputs": [],
   "source": [
    "def max_labeled_neighbor(G, node, f):\n",
    "    neighbors = [u for u in G.neighbors(node)]\n",
    "    max_label = float('-inf')\n",
    "    for u in neighbors:\n",
    "        label_u = label(G,u,f)\n",
    "        if label_u > max_label:\n",
    "            max_label = label_u\n",
    "    return max_label\n",
    "\n",
    "def min_labeled_neighbor(G, node, f):\n",
    "    neighbors = [u for u in G.neighbors(node)]\n",
    "    min_label = float('inf')\n",
    "    for u in neighbors:\n",
    "        label_u = label(G,u,f)\n",
    "        if label_u < min_label:\n",
    "            min_label = label_u\n",
    "    return min_label"
   ]
  },
  {
   "cell_type": "code",
   "execution_count": 13,
   "metadata": {},
   "outputs": [
    {
     "name": "stdout",
     "output_type": "stream",
     "text": [
      "5\n",
      "2\n"
     ]
    }
   ],
   "source": [
    "f = [3,1,2,5,4]\n",
    "print(max_labeled_neighbor(G,'v2',f))\n",
    "print(min_labeled_neighbor(G,'v2',f))"
   ]
  },
  {
   "cell_type": "markdown",
   "metadata": {},
   "source": [
    "Definišemo funkciju $set\\_K$ koja bira podskup čvorova $K$ na osnovu $Initialization$ koraka u $Algorithm 1$ pdf-a. \n",
    "### ZA OVO NISAM SIGURNA!!!!"
   ]
  },
  {
   "cell_type": "code",
   "execution_count": 14,
   "metadata": {},
   "outputs": [
    {
     "data": {
      "text/plain": [
       "['v1', 'v2', 'v3', 'v4', 'v5']"
      ]
     },
     "execution_count": 14,
     "metadata": {},
     "output_type": "execute_result"
    }
   ],
   "source": [
    "def set_K(G, f, k):\n",
    "    nodes = [u for u in G.nodes]\n",
    "    B_p = bandwidth(G,f)\n",
    "    K = []\n",
    "    while True:\n",
    "        for node in nodes:\n",
    "            bandwidth_node = bandwidth_of_a_node(G, node, f)\n",
    "            if bandwidth_node >= B_p:\n",
    "                K.append(node)\n",
    "                \n",
    "        if len(K) >= k:\n",
    "            break\n",
    "        else:\n",
    "            K = []\n",
    "            B_p -= 1\n",
    "                \n",
    "    return K\n",
    "                \n",
    "set_K(G, f, 4)"
   ]
  },
  {
   "cell_type": "markdown",
   "metadata": {},
   "source": [
    " Definišemo funkciju $critical\\_node$ koja za dati graf $G$, čvor $node$ i labeliranje $f$ nalazi čvor $v$ takav da je $ |f(node)-f(v)| = bandwidth\\_of\\_a\\_node(G, node, f) $"
   ]
  },
  {
   "cell_type": "code",
   "execution_count": 15,
   "metadata": {},
   "outputs": [],
   "source": [
    "def critical_node(G, node, f):\n",
    "    \n",
    "    nodes = [u for u in G.nodes]\n",
    "    \n",
    "    for v in nodes:\n",
    "        if abs(label(G, node, f) - label(G, v, f)) == bandwidth_of_a_node(G, node, f):\n",
    "            return v"
   ]
  },
  {
   "cell_type": "markdown",
   "metadata": {},
   "source": [
    "Definišemo pomoćnu funkciju $swap\\_labels$ koja ažurira labeliranje $f$ tako što datim čvorovima $u$ i $v$ zameni prethodne oznake."
   ]
  },
  {
   "cell_type": "code",
   "execution_count": 19,
   "metadata": {},
   "outputs": [],
   "source": [
    "def swap_labels(G, u, v, f):\n",
    "    \n",
    "    label_u = label(G, u, f)\n",
    "    label_v = label(G, v, f)\n",
    "    \n",
    "    index_u = f.index(label_u)\n",
    "    index_v = f.index(label_v)\n",
    "    \n",
    "    f[index_u] = label_v\n",
    "    f[index_v] = label_u\n",
    "    \n",
    "    return f\n"
   ]
  },
  {
   "cell_type": "code",
   "execution_count": 20,
   "metadata": {},
   "outputs": [],
   "source": [
    "def shaking(G, f, k):\n",
    "    \n",
    "    K = set_K(G, f, k)\n",
    "    \n",
    "    edges = [edge for edge in G.edges]\n",
    "    nodes = [node for node in G.nodes]\n",
    "    \n",
    "    for i in range(1,k):\n",
    "        u = random.choice(K)\n",
    "        v = critical_node(G, u, f)\n",
    "        if (u,v) in edges:\n",
    "            f_min_u = min_labeled_neighbor(G, u, f)\n",
    "            f_max_u = max_labeled_neighbor(G, u, f)\n",
    "            label_v = label(G, v, f)\n",
    "            \n",
    "            min_value = float('inf')\n",
    "            min_w = None\n",
    "            \n",
    "            for node in nodes:\n",
    "                label_node = label(G, node, f)\n",
    "                if label_node <= f_max_u and label_node >= f_min_u:\n",
    "                    current_value = max(max_labeled_neighbor(G, w, f) - label_v,label_v-min_labeled_neighbor(G, w, f))\n",
    "                    \n",
    "                    if current_value < min_value:\n",
    "                        min_value = current_value\n",
    "                        min_w = node\n",
    "                        \n",
    "            f = swap_labels(f,u,v)\n",
    "                        \n",
    "                    \n",
    "                \n",
    "    "
   ]
  },
  {
   "cell_type": "code",
   "execution_count": null,
   "metadata": {},
   "outputs": [],
   "source": []
  }
 ],
 "metadata": {
  "kernelspec": {
   "display_name": "Python 3",
   "language": "python",
   "name": "python3"
  },
  "language_info": {
   "codemirror_mode": {
    "name": "ipython",
    "version": 3
   },
   "file_extension": ".py",
   "mimetype": "text/x-python",
   "name": "python",
   "nbconvert_exporter": "python",
   "pygments_lexer": "ipython3",
   "version": "3.7.3"
  }
 },
 "nbformat": 4,
 "nbformat_minor": 2
}
